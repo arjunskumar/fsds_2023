{
  "nbformat": 4,
  "nbformat_minor": 0,
  "metadata": {
    "colab": {
      "provenance": []
    },
    "kernelspec": {
      "name": "python3",
      "display_name": "Python 3"
    },
    "language_info": {
      "name": "python"
    }
  },
  "cells": [
    {
      "cell_type": "markdown",
      "source": [
        "### 1. In the below elements which of them are values or an expression? eg:- values can be integer or string and expressions will be mathematical operators.\n",
        "\n",
        "- *\n",
        "- 'hello'\n",
        "- 87.8\n",
        "- - \n",
        "- /\n",
        "- +\n",
        "- 6"
      ],
      "metadata": {
        "id": "J5Ux23tsSSqc"
      }
    },
    {
      "cell_type": "markdown",
      "source": [
        "In the given elements, value and expressions can be classified as \n",
        "Values: \n",
        "\n",
        "- 'hello'\n",
        "- 87.8\n",
        "- 6\n",
        "\n",
        "Expressions:\n",
        "\n",
        "- -\n",
        "- /\n",
        "- *\n",
        "- +\n",
        "\n",
        "\n",
        "Please note  that the symbol `-` can be used as both value (negative sign) and expression (subtraction operator)"
      ],
      "metadata": {
        "id": "gwu0XnvRSlMw"
      }
    },
    {
      "cell_type": "markdown",
      "source": [
        "### 2. What is the difference between string and variable?"
      ],
      "metadata": {
        "id": "OjtvfHYzTicA"
      }
    },
    {
      "cell_type": "markdown",
      "source": [
        "String is a datatype in python  used to present textual data, while variable is a named container to store the values of different datatypes including strings\n"
      ],
      "metadata": {
        "id": "oO9L0Vs9UY0D"
      }
    },
    {
      "cell_type": "markdown",
      "source": [
        "### 3. Describe three different data types.\n"
      ],
      "metadata": {
        "id": "nwss-ktvUSpA"
      }
    },
    {
      "cell_type": "markdown",
      "source": [
        "1. int (Integer)  \n",
        "  - integer data type represents the whole number without any fractional or decimal part\n",
        "  - example: 52, -1000, 0 \n",
        "\n",
        "2. str (String) \n",
        "  - string data type represents textual data \n",
        "  - strings are enclosed in either double quotes or single quotes\n",
        "  - example: 'hello', \"Hello World!\", '42'\n",
        "\n",
        "3. list (List)\n",
        "  - list is ordered collection of items enclosed in square brackets\n",
        "  - list  can contain elements of different datatypes and they can be modified (mutable)\n",
        "  - example: ['Apple', 2, True] [1, 2, 3, 4, 5]"
      ],
      "metadata": {
        "id": "n6njMO0-VDQg"
      }
    },
    {
      "cell_type": "markdown",
      "source": [
        "### 4. What is an expression made up of? What do all expressions do?"
      ],
      "metadata": {
        "id": "iYv6J8EiWmbU"
      }
    },
    {
      "cell_type": "markdown",
      "source": [
        "An expression is composed of values, variables, operators, and function calls that, when evaluated, yield a result. Expressions are used to perform calculations, manipulate data, and determine control flow in a program. For example, the expression 2 * (3 + 4) evaluates to 14 by multiplying 2 with the sum of 3 and 4."
      ],
      "metadata": {
        "id": "pyoULSw-W51r"
      }
    },
    {
      "cell_type": "markdown",
      "source": [
        "### 5. This assignment statements, like spam = 10. What is the difference between an\n",
        "expression and a statement?"
      ],
      "metadata": {
        "id": "aHMHWOL4XDq9"
      }
    },
    {
      "cell_type": "markdown",
      "source": [
        "An expression in Python evaluates to a value, whereas a statement performs an action or controls the flow of execution. In the assignment statement spam = 10, the expression 10 is assigned to the variable spam, making it a statement that modifies the program state."
      ],
      "metadata": {
        "id": "t58urW_AXHJQ"
      }
    },
    {
      "cell_type": "markdown",
      "source": [
        "### 6. After running the following code, what does the variable bacon contain?\n",
        "bacon = 22\n",
        "\n",
        "bacon + 1"
      ],
      "metadata": {
        "id": "tNhDHNXcXuKt"
      }
    },
    {
      "cell_type": "markdown",
      "source": [
        "bacon will contain the original value (22) whereas bacon+1 evalutes to 23"
      ],
      "metadata": {
        "id": "V8gYW5d5X2fN"
      }
    },
    {
      "cell_type": "markdown",
      "source": [
        "### 7. What should the values of the following two terms be?\n",
        "&#39;spam&#39; + &#39;spamspam&#39;\n",
        "\n",
        "&#39;spam&#39; * 3"
      ],
      "metadata": {
        "id": "yNTPUIwlYHgl"
      }
    },
    {
      "cell_type": "markdown",
      "source": [
        "* The value of spam' + 'spamspam' is 'spamspamspam'\n",
        "* The value of 'spam'*3 is  'spamspamspam'"
      ],
      "metadata": {
        "id": "ETqrmTQcYYMN"
      }
    },
    {
      "cell_type": "markdown",
      "source": [
        "### 8. Why is eggs a valid variable name while 100 is invalid?"
      ],
      "metadata": {
        "id": "V8Ty9FZIYrF2"
      }
    },
    {
      "cell_type": "markdown",
      "source": [
        "The variable name 'eggs' is valid in Python because it starts with a letter, adhering to the rule that variable names must begin with a letter or an underscore. In contrast, '100' is invalid because it starts with a digit, violating the rule that variable names cannot start with a number."
      ],
      "metadata": {
        "id": "QDlJVVW2YyBj"
      }
    },
    {
      "cell_type": "markdown",
      "source": [
        "The `int()`, `float()`, and `str()` functions in Python can be used respectively to convert a value into an integer, floating-point number, or string representation."
      ],
      "metadata": {
        "id": "mMkCUpfzY91F"
      }
    },
    {
      "cell_type": "markdown",
      "source": [
        "### 10. Why does this expression cause an error? How can you fix it?\n",
        "&#39;I have eaten &#39; + 99 + &#39; burritos.&#39;"
      ],
      "metadata": {
        "id": "yRaqWIX8ZXib"
      }
    },
    {
      "cell_type": "markdown",
      "source": [
        "The expression causes an error because it attempts to concatenate a string ('I have eaten ') with an integer (99) directly. "
      ],
      "metadata": {
        "id": "ppmx_y97Z3zB"
      }
    },
    {
      "cell_type": "markdown",
      "source": [
        "The above expression can be fixed by converting integer value of 99 into string value"
      ],
      "metadata": {
        "id": "wvpCSwvvZdW1"
      }
    },
    {
      "cell_type": "code",
      "source": [
        "'I have eaten ' + str(99) + ' burritos'"
      ],
      "metadata": {
        "colab": {
          "base_uri": "https://localhost:8080/",
          "height": 35
        },
        "id": "fa5NNF_OZncv",
        "outputId": "043628ad-f53c-43b7-c76f-796e908177c8"
      },
      "execution_count": 6,
      "outputs": [
        {
          "output_type": "execute_result",
          "data": {
            "text/plain": [
              "'I have eaten 99 burritos'"
            ],
            "application/vnd.google.colaboratory.intrinsic+json": {
              "type": "string"
            }
          },
          "metadata": {},
          "execution_count": 6
        }
      ]
    },
    {
      "cell_type": "code",
      "source": [],
      "metadata": {
        "id": "6h-ldu8Rcdg6"
      },
      "execution_count": null,
      "outputs": []
    }
  ]
}